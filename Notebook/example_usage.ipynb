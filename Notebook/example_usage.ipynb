from elasticnet.models.ElasticNet import ElasticNetModel
from elasticnet.models.data_generators import linear_data_generator1

# Step 1: Import necessary libraries
import numpy as np
from sklearn.datasets import fetch_california_housing
from sklearn.model_selection import train_test_split
from sklearn.preprocessing import StandardScaler
from models.ElasticNet import ElasticNetModel, MyRSquared, MyMSE
from sklearn.linear_model import ElasticNet as SklearnElasticNet
from sklearn.metrics import r2_score, mean_squared_error
import matplotlib.pyplot as plt

# Step 2: Load the dataset
data = fetch_california_housing()
X, y = data.data, data.target

# Step 3: Split the data into training and testing sets
X_train, X_test, y_train, y_test = train_test_split(X, y, test_size=0.2, random_state=42)

# Step 4: Standardize the features (important for ElasticNet)
scaler = StandardScaler()
X_train_scaled = scaler.fit_transform(X_train)
X_test_scaled = scaler.transform(X_test)

# Step 5: Define the parameters for your custom ElasticNet model
alpha = 0.1
l1_ratio = 0.5
max_iter = 1000
tol = 1e-5
learning_rate = 0.01

# Step 6: Initialize and fit your custom ElasticNet model
custom_model = ElasticNetModel(alpha=alpha, l1_ratio=l1_ratio, max_iter=max_iter, tol=tol, learning_rate=learning_rate)
results_custom = custom_model.fit(X_train_scaled, y_train)
y_pred_custom = results_custom.predict(X_test_scaled)

# Step 7: Initialize and fit the scikit-learn ElasticNet model for comparison
sklearn_model = SklearnElasticNet(alpha=alpha, l1_ratio=l1_ratio, max_iter=max_iter, tol=tol)
sklearn_model.fit(X_train_scaled, y_train)
y_pred_sklearn = sklearn_model.predict(X_test_scaled)

# Step 8: Evaluate both models using R² and MSE
r2_custom = MyRSquared.calculate(y_test, y_pred_custom)
mse_custom = MyMSE.calculate(y_test, y_pred_custom)
r2_sklearn = r2_score(y_test, y_pred_sklearn)
mse_sklearn = mean_squared_error(y_test, y_pred_sklearn)

print(f"Custom ElasticNet - R²: {r2_custom:.4f}, MSE: {mse_custom:.4f}")
print(f"scikit-learn ElasticNet - R²: {r2_sklearn:.4f}, MSE: {mse_sklearn:.4f}")

# Step 9: Visualize results (optional)
plt.figure(figsize=(10, 5))
plt.scatter(y_test, y_pred_custom, label='Custom ElasticNet', alpha=0.5, color='green')
plt.scatter(y_test, y_pred_sklearn, label='scikit-learn ElasticNet', alpha=0.5, color='red')
plt.plot([y_test.min(), y_test.max()], [y_test.min(), y_test.max()], 'k--', lw=2)
plt.xlabel('True Values')
plt.ylabel('Predicted Values')
plt.title('True vs Predicted Values')
plt.legend()
plt.show()
